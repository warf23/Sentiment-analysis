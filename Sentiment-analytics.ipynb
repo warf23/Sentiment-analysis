{
 "cells": [
  {
   "cell_type": "markdown",
   "metadata": {},
   "source": [
    "# TP du SVM en Sentiment Analysis\n",
    "### AGRAT MOHAMMED\n",
    "\n",
    "\n"
   ]
  },
  {
   "cell_type": "markdown",
   "metadata": {},
   "source": [
    "# import libraries:"
   ]
  },
  {
   "cell_type": "code",
   "execution_count": 2,
   "metadata": {},
   "outputs": [
    {
     "name": "stdout",
     "output_type": "stream",
     "text": [
      "Set up completed ....\n"
     ]
    }
   ],
   "source": [
    "import numpy as np\n",
    "import pandas as pd\n",
    "from sklearn import svm\n",
    "import seaborn as sns\n",
    "import spacy\n",
    "from sklearn.naive_bayes import MultinomialNB\n",
    "from sklearn.feature_extraction.text import CountVectorizer\n",
    "from sklearn.model_selection import train_test_split\n",
    "from sklearn.metrics import classification_report\n",
    "from sklearn.model_selection import GridSearchCV, RandomizedSearchCV\n",
    "from sklearn.linear_model import LogisticRegression\n",
    "from sklearn.neighbors import KNeighborsClassifier\n",
    "from sklearn.ensemble import RandomForestClassifier\n"
   ]
  },
  {
   "cell_type": "code",
   "execution_count": 10,
   "metadata": {},
   "outputs": [],
   "source": [
    "# load the data\n",
    "X = pd.read_csv('reviews.txt', names=['review'])\n",
    "y = pd.read_csv('labels.txt',names=['label'])"
   ]
  },
  {
   "cell_type": "code",
   "execution_count": 11,
   "metadata": {},
   "outputs": [
    {
     "data": {
      "text/plain": [
       "((5000, 1), (5000, 1))"
      ]
     },
     "execution_count": 11,
     "metadata": {},
     "output_type": "execute_result"
    }
   ],
   "source": [
    "X.shape , y.shape"
   ]
  },
  {
   "cell_type": "code",
   "execution_count": 4,
   "metadata": {},
   "outputs": [
    {
     "data": {
      "text/plain": [
       "(5000, 1)"
      ]
     },
     "execution_count": 4,
     "metadata": {},
     "output_type": "execute_result"
    }
   ],
   "source": []
  },
  {
   "cell_type": "code",
   "execution_count": 12,
   "metadata": {},
   "outputs": [
    {
     "data": {
      "text/html": [
       "<div>\n",
       "<style scoped>\n",
       "    .dataframe tbody tr th:only-of-type {\n",
       "        vertical-align: middle;\n",
       "    }\n",
       "\n",
       "    .dataframe tbody tr th {\n",
       "        vertical-align: top;\n",
       "    }\n",
       "\n",
       "    .dataframe thead th {\n",
       "        text-align: right;\n",
       "    }\n",
       "</style>\n",
       "<table border=\"1\" class=\"dataframe\">\n",
       "  <thead>\n",
       "    <tr style=\"text-align: right;\">\n",
       "      <th></th>\n",
       "      <th>review</th>\n",
       "    </tr>\n",
       "  </thead>\n",
       "  <tbody>\n",
       "    <tr>\n",
       "      <th>0</th>\n",
       "      <td>bromwell high is a cartoon comedy . it ran at ...</td>\n",
       "    </tr>\n",
       "    <tr>\n",
       "      <th>1</th>\n",
       "      <td>story of a man who has unnatural feelings for ...</td>\n",
       "    </tr>\n",
       "    <tr>\n",
       "      <th>2</th>\n",
       "      <td>homelessness  or houselessness as george carli...</td>\n",
       "    </tr>\n",
       "    <tr>\n",
       "      <th>3</th>\n",
       "      <td>airport    starts as a brand new luxury    pla...</td>\n",
       "    </tr>\n",
       "    <tr>\n",
       "      <th>4</th>\n",
       "      <td>brilliant over  acting by lesley ann warren . ...</td>\n",
       "    </tr>\n",
       "  </tbody>\n",
       "</table>\n",
       "</div>"
      ],
      "text/plain": [
       "                                              review\n",
       "0  bromwell high is a cartoon comedy . it ran at ...\n",
       "1  story of a man who has unnatural feelings for ...\n",
       "2  homelessness  or houselessness as george carli...\n",
       "3  airport    starts as a brand new luxury    pla...\n",
       "4  brilliant over  acting by lesley ann warren . ..."
      ]
     },
     "execution_count": 12,
     "metadata": {},
     "output_type": "execute_result"
    }
   ],
   "source": [
    "X.head()"
   ]
  },
  {
   "cell_type": "code",
   "execution_count": 13,
   "metadata": {},
   "outputs": [
    {
     "data": {
      "text/html": [
       "<div>\n",
       "<style scoped>\n",
       "    .dataframe tbody tr th:only-of-type {\n",
       "        vertical-align: middle;\n",
       "    }\n",
       "\n",
       "    .dataframe tbody tr th {\n",
       "        vertical-align: top;\n",
       "    }\n",
       "\n",
       "    .dataframe thead th {\n",
       "        text-align: right;\n",
       "    }\n",
       "</style>\n",
       "<table border=\"1\" class=\"dataframe\">\n",
       "  <thead>\n",
       "    <tr style=\"text-align: right;\">\n",
       "      <th></th>\n",
       "      <th>label</th>\n",
       "    </tr>\n",
       "  </thead>\n",
       "  <tbody>\n",
       "    <tr>\n",
       "      <th>0</th>\n",
       "      <td>positive</td>\n",
       "    </tr>\n",
       "    <tr>\n",
       "      <th>1</th>\n",
       "      <td>negative</td>\n",
       "    </tr>\n",
       "    <tr>\n",
       "      <th>2</th>\n",
       "      <td>positive</td>\n",
       "    </tr>\n",
       "    <tr>\n",
       "      <th>3</th>\n",
       "      <td>negative</td>\n",
       "    </tr>\n",
       "    <tr>\n",
       "      <th>4</th>\n",
       "      <td>positive</td>\n",
       "    </tr>\n",
       "  </tbody>\n",
       "</table>\n",
       "</div>"
      ],
      "text/plain": [
       "      label\n",
       "0  positive\n",
       "1  negative\n",
       "2  positive\n",
       "3  negative\n",
       "4  positive"
      ]
     },
     "execution_count": 13,
     "metadata": {},
     "output_type": "execute_result"
    }
   ],
   "source": [
    "y.head()"
   ]
  },
  {
   "cell_type": "code",
   "execution_count": 14,
   "metadata": {},
   "outputs": [
    {
     "data": {
      "text/plain": [
       "<Axes: ylabel='label'>"
      ]
     },
     "execution_count": 14,
     "metadata": {},
     "output_type": "execute_result"
    },
    {
     "data": {
      "image/png": "[encoded data removed]",
      "text/plain": [
       "<Figure size 640x480 with 1 Axes>"
      ]
     },
     "metadata": {},
     "output_type": "display_data"
    }
   ],
   "source": [
    "y['label'].value_counts().plot(kind='pie' ,  autopct='%1.1f%%')"
   ]
  },
  {
   "cell_type": "code",
   "execution_count": 8,
   "metadata": {},
   "outputs": [],
   "source": [
    "y = y.label.map({'positive':1 , 'negative':0})"
   ]
  },
  {
   "cell_type": "markdown",
   "metadata": {},
   "source": [
    "#### 3- prepare the data for training :"
   ]
  },
  {
   "cell_type": "code",
   "execution_count": 9,
   "metadata": {},
   "outputs": [],
   "source": [
    "nlp = spacy.load(\"en_core_web_sm\")"
   ]
  },
  {
   "cell_type": "markdown",
   "metadata": {},
   "source": []
  },
  {
   "cell_type": "code",
   "execution_count": 10,
   "metadata": {},
   "outputs": [],
   "source": [
    "def preprocessing(text: str) -> str:\n",
    "    doc = nlp(text.lower())\n",
    "    tokens = [ word.lemma_ for word in doc if not (word.is_stop or word.is_punct)]\n",
    "    return ' '.join(tokens)"
   ]
  },
  {
   "cell_type": "code",
   "execution_count": 11,
   "metadata": {},
   "outputs": [],
   "source": [
    "X[\"processed_review\"] = X.review.apply(lambda text:preprocessing(text))"
   ]
  },
  {
   "cell_type": "code",
   "execution_count": 12,
   "metadata": {},
   "outputs": [
    {
     "data": {
      "text/html": [
       "<div>\n",
       "<style scoped>\n",
       "    .dataframe tbody tr th:only-of-type {\n",
       "        vertical-align: middle;\n",
       "    }\n",
       "\n",
       "    .dataframe tbody tr th {\n",
       "        vertical-align: top;\n",
       "    }\n",
       "\n",
       "    .dataframe thead th {\n",
       "        text-align: right;\n",
       "    }\n",
       "</style>\n",
       "<table border=\"1\" class=\"dataframe\">\n",
       "  <thead>\n",
       "    <tr style=\"text-align: right;\">\n",
       "      <th></th>\n",
       "      <th>review</th>\n",
       "      <th>processed_review</th>\n",
       "    </tr>\n",
       "  </thead>\n",
       "  <tbody>\n",
       "    <tr>\n",
       "      <th>0</th>\n",
       "      <td>bromwell high is a cartoon comedy . it ran at ...</td>\n",
       "      <td>bromwell high cartoon comedy run time program ...</td>\n",
       "    </tr>\n",
       "    <tr>\n",
       "      <th>1</th>\n",
       "      <td>story of a man who has unnatural feelings for ...</td>\n",
       "      <td>story man unnatural feeling pig start opening ...</td>\n",
       "    </tr>\n",
       "    <tr>\n",
       "      <th>2</th>\n",
       "      <td>homelessness  or houselessness as george carli...</td>\n",
       "      <td>homelessness   houselessness george carlin sta...</td>\n",
       "    </tr>\n",
       "    <tr>\n",
       "      <th>3</th>\n",
       "      <td>airport    starts as a brand new luxury    pla...</td>\n",
       "      <td>airport     start brand new luxury     plane l...</td>\n",
       "    </tr>\n",
       "    <tr>\n",
       "      <th>4</th>\n",
       "      <td>brilliant over  acting by lesley ann warren . ...</td>\n",
       "      <td>brilliant   act lesley ann warren well dramati...</td>\n",
       "    </tr>\n",
       "  </tbody>\n",
       "</table>\n",
       "</div>"
      ],
      "text/plain": [
       "                                              review  \\\n",
       "0  bromwell high is a cartoon comedy . it ran at ...   \n",
       "1  story of a man who has unnatural feelings for ...   \n",
       "2  homelessness  or houselessness as george carli...   \n",
       "3  airport    starts as a brand new luxury    pla...   \n",
       "4  brilliant over  acting by lesley ann warren . ...   \n",
       "\n",
       "                                    processed_review  \n",
       "0  bromwell high cartoon comedy run time program ...  \n",
       "1  story man unnatural feeling pig start opening ...  \n",
       "2  homelessness   houselessness george carlin sta...  \n",
       "3  airport     start brand new luxury     plane l...  \n",
       "4  brilliant   act lesley ann warren well dramati...  "
      ]
     },
     "execution_count": 12,
     "metadata": {},
     "output_type": "execute_result"
    }
   ],
   "source": [
    "X.head()"
   ]
  },
  {
   "cell_type": "code",
   "execution_count": 13,
   "metadata": {},
   "outputs": [],
   "source": [
    "# split the data into train and test.\n",
    "X_train, X_test, y_train, y_test = train_test_split(X.processed_review, y, test_size=0.2)"
   ]
  },
  {
   "cell_type": "code",
   "execution_count": 14,
   "metadata": {},
   "outputs": [
    {
     "data": {
      "text/plain": [
       "((4000,), (4000,))"
      ]
     },
     "execution_count": 14,
     "metadata": {},
     "output_type": "execute_result"
    }
   ],
   "source": [
    "X_train.shape, y_train.shape"
   ]
  },
  {
   "cell_type": "code",
   "execution_count": 15,
   "metadata": {},
   "outputs": [],
   "source": [
    "cv = CountVectorizer()\n",
    "X_train = cv.fit_transform(X_train)"
   ]
  },
  {
   "cell_type": "code",
   "execution_count": 16,
   "metadata": {},
   "outputs": [
    {
     "data": {
      "text/plain": [
       "(4000, 26016)"
      ]
     },
     "execution_count": 16,
     "metadata": {},
     "output_type": "execute_result"
    }
   ],
   "source": [
    "X_train.shape"
   ]
  },
  {
   "cell_type": "code",
   "execution_count": 17,
   "metadata": {},
   "outputs": [],
   "source": [
    "X_test = cv.transform(X_test)"
   ]
  },
  {
   "cell_type": "markdown",
   "metadata": {},
   "source": [
    "#### 4- train the SVM model:"
   ]
  },
  {
   "cell_type": "code",
   "execution_count": 18,
   "metadata": {},
   "outputs": [
    {
     "name": "stdout",
     "output_type": "stream",
     "text": [
      "Fitting 5 folds for each of 50 candidates, totalling 250 fits\n",
      "[CV 1/5] END .....C=0.1, gamma=1, kernel=linear;, score=0.863 total time=   6.8s\n",
      "[CV 2/5] END .....C=0.1, gamma=1, kernel=linear;, score=0.850 total time=   5.7s\n",
      "[CV 3/5] END .....C=0.1, gamma=1, kernel=linear;, score=0.850 total time=   5.9s\n",
      "[CV 4/5] END .....C=0.1, gamma=1, kernel=linear;, score=0.864 total time=   6.1s\n",
      "[CV 5/5] END .....C=0.1, gamma=1, kernel=linear;, score=0.854 total time=   5.7s\n",
      "[CV 1/5] END ........C=0.1, gamma=1, kernel=rbf;, score=0.500 total time=  13.0s\n",
      "[CV 2/5] END ........C=0.1, gamma=1, kernel=rbf;, score=0.500 total time=  13.2s\n",
      "[CV 3/5] END ........C=0.1, gamma=1, kernel=rbf;, score=0.500 total time=  13.0s\n",
      "[CV 4/5] END ........C=0.1, gamma=1, kernel=rbf;, score=0.500 total time=  13.1s\n",
      "[CV 5/5] END ........C=0.1, gamma=1, kernel=rbf;, score=0.585 total time=  13.5s\n",
      "[CV 1/5] END ...C=0.1, gamma=0.1, kernel=linear;, score=0.863 total time=   6.2s\n",
      "[CV 2/5] END ...C=0.1, gamma=0.1, kernel=linear;, score=0.850 total time=   8.6s\n",
      "[CV 3/5] END ...C=0.1, gamma=0.1, kernel=linear;, score=0.850 total time=  14.0s\n",
      "[CV 4/5] END ...C=0.1, gamma=0.1, kernel=linear;, score=0.864 total time=  14.6s\n",
      "[CV 5/5] END ...C=0.1, gamma=0.1, kernel=linear;, score=0.854 total time=  12.7s\n",
      "[CV 1/5] END ......C=0.1, gamma=0.1, kernel=rbf;, score=0.500 total time=  13.1s\n",
      "[CV 2/5] END ......C=0.1, gamma=0.1, kernel=rbf;, score=0.500 total time=  12.6s\n",
      "[CV 3/5] END ......C=0.1, gamma=0.1, kernel=rbf;, score=0.500 total time=  13.1s\n",
      "[CV 4/5] END ......C=0.1, gamma=0.1, kernel=rbf;, score=0.500 total time=  12.1s\n",
      "[CV 5/5] END ......C=0.1, gamma=0.1, kernel=rbf;, score=0.520 total time=  19.6s\n",
      "[CV 1/5] END ..C=0.1, gamma=0.01, kernel=linear;, score=0.863 total time=   7.9s\n",
      "[CV 2/5] END ..C=0.1, gamma=0.01, kernel=linear;, score=0.850 total time=   5.9s\n",
      "[CV 3/5] END ..C=0.1, gamma=0.01, kernel=linear;, score=0.850 total time=   5.8s\n",
      "[CV 4/5] END ..C=0.1, gamma=0.01, kernel=linear;, score=0.864 total time=   5.9s\n",
      "[CV 5/5] END ..C=0.1, gamma=0.01, kernel=linear;, score=0.854 total time=   5.9s\n",
      "[CV 1/5] END .....C=0.1, gamma=0.01, kernel=rbf;, score=0.640 total time=  12.3s\n",
      "[CV 2/5] END .....C=0.1, gamma=0.01, kernel=rbf;, score=0.625 total time=  11.9s\n",
      "[CV 3/5] END .....C=0.1, gamma=0.01, kernel=rbf;, score=0.603 total time=  12.2s\n",
      "[CV 4/5] END .....C=0.1, gamma=0.01, kernel=rbf;, score=0.613 total time=  12.2s\n",
      "[CV 5/5] END .....C=0.1, gamma=0.01, kernel=rbf;, score=0.627 total time=  12.3s\n",
      "[CV 1/5] END .C=0.1, gamma=0.001, kernel=linear;, score=0.863 total time=   5.7s\n",
      "[CV 2/5] END .C=0.1, gamma=0.001, kernel=linear;, score=0.850 total time=   5.9s\n",
      "[CV 3/5] END .C=0.1, gamma=0.001, kernel=linear;, score=0.850 total time=   6.3s\n",
      "[CV 4/5] END .C=0.1, gamma=0.001, kernel=linear;, score=0.864 total time=   5.7s\n",
      "[CV 5/5] END .C=0.1, gamma=0.001, kernel=linear;, score=0.854 total time=   5.8s\n",
      "[CV 1/5] END ....C=0.1, gamma=0.001, kernel=rbf;, score=0.660 total time=  13.9s\n",
      "[CV 2/5] END ....C=0.1, gamma=0.001, kernel=rbf;, score=0.665 total time=  12.7s\n",
      "[CV 3/5] END ....C=0.1, gamma=0.001, kernel=rbf;, score=0.632 total time=  11.8s\n",
      "[CV 4/5] END ....C=0.1, gamma=0.001, kernel=rbf;, score=0.715 total time=  12.6s\n",
      "[CV 5/5] END ....C=0.1, gamma=0.001, kernel=rbf;, score=0.703 total time=  12.4s\n",
      "[CV 1/5] END C=0.1, gamma=0.0001, kernel=linear;, score=0.863 total time=   6.3s\n",
      "[CV 2/5] END C=0.1, gamma=0.0001, kernel=linear;, score=0.850 total time=   6.0s\n",
      "[CV 3/5] END C=0.1, gamma=0.0001, kernel=linear;, score=0.850 total time=   5.1s\n",
      "[CV 4/5] END C=0.1, gamma=0.0001, kernel=linear;, score=0.864 total time=   5.9s\n",
      "[CV 5/5] END C=0.1, gamma=0.0001, kernel=linear;, score=0.854 total time=   6.1s\n",
      "[CV 1/5] END ...C=0.1, gamma=0.0001, kernel=rbf;, score=0.500 total time=  13.9s\n",
      "[CV 2/5] END ...C=0.1, gamma=0.0001, kernel=rbf;, score=0.500 total time=  13.0s\n",
      "[CV 3/5] END ...C=0.1, gamma=0.0001, kernel=rbf;, score=0.500 total time=  13.2s\n",
      "[CV 4/5] END ...C=0.1, gamma=0.0001, kernel=rbf;, score=0.500 total time=  13.8s\n",
      "[CV 5/5] END ...C=0.1, gamma=0.0001, kernel=rbf;, score=0.634 total time=  21.6s\n",
      "[CV 1/5] END .......C=1, gamma=1, kernel=linear;, score=0.859 total time=  12.9s\n",
      "[CV 2/5] END .......C=1, gamma=1, kernel=linear;, score=0.845 total time=   5.7s\n",
      "[CV 3/5] END .......C=1, gamma=1, kernel=linear;, score=0.851 total time=   5.9s\n",
      "[CV 4/5] END .......C=1, gamma=1, kernel=linear;, score=0.851 total time=   5.9s\n",
      "[CV 5/5] END .......C=1, gamma=1, kernel=linear;, score=0.855 total time=   5.7s\n",
      "[CV 1/5] END ..........C=1, gamma=1, kernel=rbf;, score=0.500 total time=  13.1s\n",
      "[CV 2/5] END ..........C=1, gamma=1, kernel=rbf;, score=0.500 total time=  14.9s\n",
      "[CV 3/5] END ..........C=1, gamma=1, kernel=rbf;, score=0.500 total time=  14.6s\n",
      "[CV 4/5] END ..........C=1, gamma=1, kernel=rbf;, score=0.502 total time=  14.8s\n",
      "[CV 5/5] END ..........C=1, gamma=1, kernel=rbf;, score=0.500 total time=  14.7s\n",
      "[CV 1/5] END .....C=1, gamma=0.1, kernel=linear;, score=0.859 total time=   6.4s\n",
      "[CV 2/5] END .....C=1, gamma=0.1, kernel=linear;, score=0.845 total time=   6.5s\n",
      "[CV 3/5] END .....C=1, gamma=0.1, kernel=linear;, score=0.851 total time=   6.4s\n",
      "[CV 4/5] END .....C=1, gamma=0.1, kernel=linear;, score=0.851 total time=   6.6s\n",
      "[CV 5/5] END .....C=1, gamma=0.1, kernel=linear;, score=0.855 total time=   6.3s\n",
      "[CV 1/5] END ........C=1, gamma=0.1, kernel=rbf;, score=0.547 total time=  15.4s\n",
      "[CV 2/5] END ........C=1, gamma=0.1, kernel=rbf;, score=0.544 total time=  13.2s\n",
      "[CV 3/5] END ........C=1, gamma=0.1, kernel=rbf;, score=0.544 total time=  13.5s\n",
      "[CV 4/5] END ........C=1, gamma=0.1, kernel=rbf;, score=0.535 total time=  13.7s\n",
      "[CV 5/5] END ........C=1, gamma=0.1, kernel=rbf;, score=0.539 total time=  13.6s\n",
      "[CV 1/5] END ....C=1, gamma=0.01, kernel=linear;, score=0.859 total time=   6.6s\n",
      "[CV 2/5] END ....C=1, gamma=0.01, kernel=linear;, score=0.845 total time=   6.5s\n",
      "[CV 3/5] END ....C=1, gamma=0.01, kernel=linear;, score=0.851 total time=   6.6s\n",
      "[CV 4/5] END ....C=1, gamma=0.01, kernel=linear;, score=0.851 total time=   6.7s\n",
      "[CV 5/5] END ....C=1, gamma=0.01, kernel=linear;, score=0.855 total time=   5.9s\n",
      "[CV 1/5] END .......C=1, gamma=0.01, kernel=rbf;, score=0.831 total time=  13.2s\n",
      "[CV 2/5] END .......C=1, gamma=0.01, kernel=rbf;, score=0.814 total time=  13.6s\n",
      "[CV 3/5] END .......C=1, gamma=0.01, kernel=rbf;, score=0.836 total time=  12.7s\n",
      "[CV 4/5] END .......C=1, gamma=0.01, kernel=rbf;, score=0.811 total time=  13.2s\n",
      "[CV 5/5] END .......C=1, gamma=0.01, kernel=rbf;, score=0.789 total time=  13.7s\n",
      "[CV 1/5] END ...C=1, gamma=0.001, kernel=linear;, score=0.859 total time=   6.6s\n",
      "[CV 2/5] END ...C=1, gamma=0.001, kernel=linear;, score=0.845 total time=   6.3s\n",
      "[CV 3/5] END ...C=1, gamma=0.001, kernel=linear;, score=0.851 total time=   6.3s\n",
      "[CV 4/5] END ...C=1, gamma=0.001, kernel=linear;, score=0.851 total time=   6.0s\n",
      "[CV 5/5] END ...C=1, gamma=0.001, kernel=linear;, score=0.855 total time=   5.4s\n",
      "[CV 1/5] END ......C=1, gamma=0.001, kernel=rbf;, score=0.836 total time=  10.4s\n",
      "[CV 2/5] END ......C=1, gamma=0.001, kernel=rbf;, score=0.843 total time=  10.6s\n",
      "[CV 3/5] END ......C=1, gamma=0.001, kernel=rbf;, score=0.835 total time=  10.0s\n",
      "[CV 4/5] END ......C=1, gamma=0.001, kernel=rbf;, score=0.836 total time=  10.6s\n",
      "[CV 5/5] END ......C=1, gamma=0.001, kernel=rbf;, score=0.838 total time=  10.5s\n",
      "[CV 1/5] END ..C=1, gamma=0.0001, kernel=linear;, score=0.859 total time=   5.7s\n",
      "[CV 2/5] END ..C=1, gamma=0.0001, kernel=linear;, score=0.845 total time=   5.4s\n",
      "[CV 3/5] END ..C=1, gamma=0.0001, kernel=linear;, score=0.851 total time=   5.8s\n",
      "[CV 4/5] END ..C=1, gamma=0.0001, kernel=linear;, score=0.851 total time=   6.3s\n",
      "[CV 5/5] END ..C=1, gamma=0.0001, kernel=linear;, score=0.855 total time=   6.2s\n",
      "[CV 1/5] END .....C=1, gamma=0.0001, kernel=rbf;, score=0.655 total time=  14.0s\n",
      "[CV 2/5] END .....C=1, gamma=0.0001, kernel=rbf;, score=0.664 total time=  12.6s\n",
      "[CV 3/5] END .....C=1, gamma=0.0001, kernel=rbf;, score=0.637 total time=  12.7s\n",
      "[CV 4/5] END .....C=1, gamma=0.0001, kernel=rbf;, score=0.719 total time=  11.8s\n",
      "[CV 5/5] END .....C=1, gamma=0.0001, kernel=rbf;, score=0.705 total time=  12.9s\n",
      "[CV 1/5] END ......C=10, gamma=1, kernel=linear;, score=0.856 total time=   6.4s\n",
      "[CV 2/5] END ......C=10, gamma=1, kernel=linear;, score=0.846 total time=   6.0s\n",
      "[CV 3/5] END ......C=10, gamma=1, kernel=linear;, score=0.851 total time=   6.3s\n",
      "[CV 4/5] END ......C=10, gamma=1, kernel=linear;, score=0.854 total time=   6.1s\n",
      "[CV 5/5] END ......C=10, gamma=1, kernel=linear;, score=0.851 total time=   6.5s\n",
      "[CV 1/5] END .........C=10, gamma=1, kernel=rbf;, score=0.500 total time=  14.5s\n",
      "[CV 2/5] END .........C=10, gamma=1, kernel=rbf;, score=0.501 total time=  14.3s\n",
      "[CV 3/5] END .........C=10, gamma=1, kernel=rbf;, score=0.500 total time=  14.9s\n",
      "[CV 4/5] END .........C=10, gamma=1, kernel=rbf;, score=0.502 total time=  14.5s\n",
      "[CV 5/5] END .........C=10, gamma=1, kernel=rbf;, score=0.500 total time=  14.1s\n",
      "[CV 1/5] END ....C=10, gamma=0.1, kernel=linear;, score=0.856 total time=   6.3s\n",
      "[CV 2/5] END ....C=10, gamma=0.1, kernel=linear;, score=0.846 total time=   6.1s\n",
      "[CV 3/5] END ....C=10, gamma=0.1, kernel=linear;, score=0.851 total time=   5.9s\n",
      "[CV 4/5] END ....C=10, gamma=0.1, kernel=linear;, score=0.854 total time=   6.4s\n",
      "[CV 5/5] END ....C=10, gamma=0.1, kernel=linear;, score=0.851 total time=   6.4s\n",
      "[CV 1/5] END .......C=10, gamma=0.1, kernel=rbf;, score=0.569 total time=  12.1s\n",
      "[CV 2/5] END .......C=10, gamma=0.1, kernel=rbf;, score=0.579 total time=  12.9s\n",
      "[CV 3/5] END .......C=10, gamma=0.1, kernel=rbf;, score=0.555 total time=  27.1s\n",
      "[CV 4/5] END .......C=10, gamma=0.1, kernel=rbf;, score=0.557 total time=  31.4s\n",
      "[CV 5/5] END .......C=10, gamma=0.1, kernel=rbf;, score=0.560 total time=  31.8s\n",
      "[CV 1/5] END ...C=10, gamma=0.01, kernel=linear;, score=0.856 total time=  13.9s\n",
      "[CV 2/5] END ...C=10, gamma=0.01, kernel=linear;, score=0.846 total time=  12.7s\n",
      "[CV 3/5] END ...C=10, gamma=0.01, kernel=linear;, score=0.851 total time=   5.8s\n",
      "[CV 4/5] END ...C=10, gamma=0.01, kernel=linear;, score=0.854 total time=   5.9s\n",
      "[CV 5/5] END ...C=10, gamma=0.01, kernel=linear;, score=0.851 total time=   5.9s\n",
      "[CV 1/5] END ......C=10, gamma=0.01, kernel=rbf;, score=0.840 total time=  13.8s\n",
      "[CV 2/5] END ......C=10, gamma=0.01, kernel=rbf;, score=0.823 total time=  13.9s\n",
      "[CV 3/5] END ......C=10, gamma=0.01, kernel=rbf;, score=0.836 total time=  13.7s\n",
      "[CV 4/5] END ......C=10, gamma=0.01, kernel=rbf;, score=0.831 total time=  12.3s\n",
      "[CV 5/5] END ......C=10, gamma=0.01, kernel=rbf;, score=0.804 total time=  13.7s\n",
      "[CV 1/5] END ..C=10, gamma=0.001, kernel=linear;, score=0.856 total time=   6.4s\n",
      "[CV 2/5] END ..C=10, gamma=0.001, kernel=linear;, score=0.846 total time=   6.1s\n",
      "[CV 3/5] END ..C=10, gamma=0.001, kernel=linear;, score=0.851 total time=   5.6s\n",
      "[CV 4/5] END ..C=10, gamma=0.001, kernel=linear;, score=0.854 total time=   6.6s\n",
      "[CV 5/5] END ..C=10, gamma=0.001, kernel=linear;, score=0.851 total time=   6.1s\n",
      "[CV 1/5] END .....C=10, gamma=0.001, kernel=rbf;, score=0.891 total time=   7.8s\n",
      "[CV 2/5] END .....C=10, gamma=0.001, kernel=rbf;, score=0.865 total time=   7.3s\n",
      "[CV 3/5] END .....C=10, gamma=0.001, kernel=rbf;, score=0.876 total time=   7.4s\n",
      "[CV 4/5] END .....C=10, gamma=0.001, kernel=rbf;, score=0.873 total time=   7.6s\n",
      "[CV 5/5] END .....C=10, gamma=0.001, kernel=rbf;, score=0.874 total time=   8.2s\n",
      "[CV 1/5] END .C=10, gamma=0.0001, kernel=linear;, score=0.856 total time=   6.3s\n",
      "[CV 2/5] END .C=10, gamma=0.0001, kernel=linear;, score=0.846 total time=   6.5s\n",
      "[CV 3/5] END .C=10, gamma=0.0001, kernel=linear;, score=0.851 total time=   6.0s\n",
      "[CV 4/5] END .C=10, gamma=0.0001, kernel=linear;, score=0.854 total time=   5.9s\n",
      "[CV 5/5] END .C=10, gamma=0.0001, kernel=linear;, score=0.851 total time=   6.7s\n",
      "[CV 1/5] END ....C=10, gamma=0.0001, kernel=rbf;, score=0.846 total time=  10.3s\n",
      "[CV 2/5] END ....C=10, gamma=0.0001, kernel=rbf;, score=0.851 total time=  10.2s\n",
      "[CV 3/5] END ....C=10, gamma=0.0001, kernel=rbf;, score=0.846 total time=   9.6s\n",
      "[CV 4/5] END ....C=10, gamma=0.0001, kernel=rbf;, score=0.853 total time=  10.2s\n",
      "[CV 5/5] END ....C=10, gamma=0.0001, kernel=rbf;, score=0.849 total time=  10.3s\n",
      "[CV 1/5] END .....C=100, gamma=1, kernel=linear;, score=0.856 total time=   6.7s\n",
      "[CV 2/5] END .....C=100, gamma=1, kernel=linear;, score=0.846 total time=   6.3s\n",
      "[CV 3/5] END .....C=100, gamma=1, kernel=linear;, score=0.851 total time=   6.3s\n",
      "[CV 4/5] END .....C=100, gamma=1, kernel=linear;, score=0.854 total time=   6.1s\n",
      "[CV 5/5] END .....C=100, gamma=1, kernel=linear;, score=0.851 total time=   6.1s\n",
      "[CV 1/5] END ........C=100, gamma=1, kernel=rbf;, score=0.500 total time=  14.5s\n",
      "[CV 2/5] END ........C=100, gamma=1, kernel=rbf;, score=0.501 total time=  13.7s\n",
      "[CV 3/5] END ........C=100, gamma=1, kernel=rbf;, score=0.500 total time=  14.3s\n",
      "[CV 4/5] END ........C=100, gamma=1, kernel=rbf;, score=0.502 total time=  14.3s\n",
      "[CV 5/5] END ........C=100, gamma=1, kernel=rbf;, score=0.500 total time=  14.5s\n",
      "[CV 1/5] END ...C=100, gamma=0.1, kernel=linear;, score=0.856 total time=   6.7s\n",
      "[CV 2/5] END ...C=100, gamma=0.1, kernel=linear;, score=0.846 total time=   6.2s\n",
      "[CV 3/5] END ...C=100, gamma=0.1, kernel=linear;, score=0.851 total time=   5.7s\n",
      "[CV 4/5] END ...C=100, gamma=0.1, kernel=linear;, score=0.854 total time=   6.6s\n",
      "[CV 5/5] END ...C=100, gamma=0.1, kernel=linear;, score=0.851 total time=   5.7s\n",
      "[CV 1/5] END ......C=100, gamma=0.1, kernel=rbf;, score=0.569 total time=  14.6s\n",
      "[CV 2/5] END ......C=100, gamma=0.1, kernel=rbf;, score=0.579 total time=  12.6s\n",
      "[CV 3/5] END ......C=100, gamma=0.1, kernel=rbf;, score=0.555 total time=  13.5s\n",
      "[CV 4/5] END ......C=100, gamma=0.1, kernel=rbf;, score=0.557 total time=  13.8s\n",
      "[CV 5/5] END ......C=100, gamma=0.1, kernel=rbf;, score=0.560 total time=  14.3s\n",
      "[CV 1/5] END ..C=100, gamma=0.01, kernel=linear;, score=0.856 total time=   6.9s\n",
      "[CV 2/5] END ..C=100, gamma=0.01, kernel=linear;, score=0.846 total time=   6.3s\n",
      "[CV 3/5] END ..C=100, gamma=0.01, kernel=linear;, score=0.851 total time=   6.1s\n",
      "[CV 4/5] END ..C=100, gamma=0.01, kernel=linear;, score=0.854 total time=   6.2s\n",
      "[CV 5/5] END ..C=100, gamma=0.01, kernel=linear;, score=0.851 total time=   6.3s\n",
      "[CV 1/5] END .....C=100, gamma=0.01, kernel=rbf;, score=0.836 total time=  13.6s\n",
      "[CV 2/5] END .....C=100, gamma=0.01, kernel=rbf;, score=0.823 total time=  13.2s\n",
      "[CV 3/5] END .....C=100, gamma=0.01, kernel=rbf;, score=0.838 total time=  14.0s\n",
      "[CV 4/5] END .....C=100, gamma=0.01, kernel=rbf;, score=0.836 total time=  14.2s\n",
      "[CV 5/5] END .....C=100, gamma=0.01, kernel=rbf;, score=0.799 total time=  13.8s\n",
      "[CV 1/5] END .C=100, gamma=0.001, kernel=linear;, score=0.856 total time=   5.7s\n",
      "[CV 2/5] END .C=100, gamma=0.001, kernel=linear;, score=0.846 total time=   6.0s\n",
      "[CV 3/5] END .C=100, gamma=0.001, kernel=linear;, score=0.851 total time=   6.1s\n",
      "[CV 4/5] END .C=100, gamma=0.001, kernel=linear;, score=0.854 total time=   6.3s\n",
      "[CV 5/5] END .C=100, gamma=0.001, kernel=linear;, score=0.851 total time=   6.3s\n",
      "[CV 1/5] END ....C=100, gamma=0.001, kernel=rbf;, score=0.869 total time=   9.8s\n",
      "[CV 2/5] END ....C=100, gamma=0.001, kernel=rbf;, score=0.856 total time=   9.7s\n",
      "[CV 3/5] END ....C=100, gamma=0.001, kernel=rbf;, score=0.856 total time=   9.5s\n",
      "[CV 4/5] END ....C=100, gamma=0.001, kernel=rbf;, score=0.870 total time=  10.3s\n",
      "[CV 5/5] END ....C=100, gamma=0.001, kernel=rbf;, score=0.864 total time=   9.5s\n",
      "[CV 1/5] END C=100, gamma=0.0001, kernel=linear;, score=0.856 total time=   5.7s\n",
      "[CV 2/5] END C=100, gamma=0.0001, kernel=linear;, score=0.846 total time=   5.4s\n",
      "[CV 3/5] END C=100, gamma=0.0001, kernel=linear;, score=0.851 total time=   5.8s\n",
      "[CV 4/5] END C=100, gamma=0.0001, kernel=linear;, score=0.854 total time=   5.8s\n",
      "[CV 5/5] END C=100, gamma=0.0001, kernel=linear;, score=0.851 total time=   6.0s\n",
      "[CV 1/5] END ...C=100, gamma=0.0001, kernel=rbf;, score=0.894 total time=   7.2s\n",
      "[CV 2/5] END ...C=100, gamma=0.0001, kernel=rbf;, score=0.861 total time=   6.9s\n",
      "[CV 3/5] END ...C=100, gamma=0.0001, kernel=rbf;, score=0.870 total time=   6.2s\n",
      "[CV 4/5] END ...C=100, gamma=0.0001, kernel=rbf;, score=0.877 total time=   7.1s\n",
      "[CV 5/5] END ...C=100, gamma=0.0001, kernel=rbf;, score=0.877 total time=   6.6s\n",
      "[CV 1/5] END ....C=1000, gamma=1, kernel=linear;, score=0.856 total time=   6.6s\n",
      "[CV 2/5] END ....C=1000, gamma=1, kernel=linear;, score=0.846 total time=   6.4s\n",
      "[CV 3/5] END ....C=1000, gamma=1, kernel=linear;, score=0.851 total time=   5.8s\n",
      "[CV 4/5] END ....C=1000, gamma=1, kernel=linear;, score=0.854 total time=   6.5s\n",
      "[CV 5/5] END ....C=1000, gamma=1, kernel=linear;, score=0.851 total time=   6.3s\n",
      "[CV 1/5] END .......C=1000, gamma=1, kernel=rbf;, score=0.500 total time=  14.1s\n",
      "[CV 2/5] END .......C=1000, gamma=1, kernel=rbf;, score=0.501 total time=  14.7s\n",
      "[CV 3/5] END .......C=1000, gamma=1, kernel=rbf;, score=0.500 total time=  14.3s\n",
      "[CV 4/5] END .......C=1000, gamma=1, kernel=rbf;, score=0.502 total time=  14.1s\n",
      "[CV 5/5] END .......C=1000, gamma=1, kernel=rbf;, score=0.500 total time=  14.0s\n",
      "[CV 1/5] END ..C=1000, gamma=0.1, kernel=linear;, score=0.856 total time=   6.7s\n",
      "[CV 2/5] END ..C=1000, gamma=0.1, kernel=linear;, score=0.846 total time=   6.3s\n",
      "[CV 3/5] END ..C=1000, gamma=0.1, kernel=linear;, score=0.851 total time=   6.5s\n",
      "[CV 4/5] END ..C=1000, gamma=0.1, kernel=linear;, score=0.854 total time=   6.3s\n",
      "[CV 5/5] END ..C=1000, gamma=0.1, kernel=linear;, score=0.851 total time=   6.0s\n",
      "[CV 1/5] END .....C=1000, gamma=0.1, kernel=rbf;, score=0.569 total time=  14.2s\n",
      "[CV 2/5] END .....C=1000, gamma=0.1, kernel=rbf;, score=0.579 total time=  14.9s\n",
      "[CV 3/5] END .....C=1000, gamma=0.1, kernel=rbf;, score=0.555 total time=  14.0s\n",
      "[CV 4/5] END .....C=1000, gamma=0.1, kernel=rbf;, score=0.557 total time=  13.4s\n",
      "[CV 5/5] END .....C=1000, gamma=0.1, kernel=rbf;, score=0.560 total time=  13.9s\n",
      "[CV 1/5] END .C=1000, gamma=0.01, kernel=linear;, score=0.856 total time=   6.7s\n",
      "[CV 2/5] END .C=1000, gamma=0.01, kernel=linear;, score=0.846 total time=   6.2s\n",
      "[CV 3/5] END .C=1000, gamma=0.01, kernel=linear;, score=0.851 total time=   6.7s\n",
      "[CV 4/5] END .C=1000, gamma=0.01, kernel=linear;, score=0.854 total time=   6.7s\n",
      "[CV 5/5] END .C=1000, gamma=0.01, kernel=linear;, score=0.851 total time=   6.4s\n",
      "[CV 1/5] END ....C=1000, gamma=0.01, kernel=rbf;, score=0.836 total time=  13.6s\n",
      "[CV 2/5] END ....C=1000, gamma=0.01, kernel=rbf;, score=0.823 total time=  13.3s\n",
      "[CV 3/5] END ....C=1000, gamma=0.01, kernel=rbf;, score=0.838 total time=  14.0s\n",
      "[CV 4/5] END ....C=1000, gamma=0.01, kernel=rbf;, score=0.836 total time=  24.1s\n",
      "[CV 5/5] END ....C=1000, gamma=0.01, kernel=rbf;, score=0.799 total time=  27.1s\n",
      "[CV 1/5] END C=1000, gamma=0.001, kernel=linear;, score=0.856 total time=   5.6s\n",
      "[CV 2/5] END C=1000, gamma=0.001, kernel=linear;, score=0.846 total time=   4.5s\n",
      "[CV 3/5] END C=1000, gamma=0.001, kernel=linear;, score=0.851 total time=   5.1s\n",
      "[CV 4/5] END C=1000, gamma=0.001, kernel=linear;, score=0.854 total time=   6.7s\n",
      "[CV 5/5] END C=1000, gamma=0.001, kernel=linear;, score=0.851 total time=   6.4s\n",
      "[CV 1/5] END ...C=1000, gamma=0.001, kernel=rbf;, score=0.860 total time=   9.9s\n",
      "[CV 2/5] END ...C=1000, gamma=0.001, kernel=rbf;, score=0.853 total time=   9.6s\n",
      "[CV 3/5] END ...C=1000, gamma=0.001, kernel=rbf;, score=0.866 total time=   9.1s\n",
      "[CV 4/5] END ...C=1000, gamma=0.001, kernel=rbf;, score=0.869 total time=   9.6s\n",
      "[CV 5/5] END ...C=1000, gamma=0.001, kernel=rbf;, score=0.861 total time=   9.4s\n",
      "[CV 1/5] END C=1000, gamma=0.0001, kernel=linear;, score=0.856 total time=   7.2s\n",
      "[CV 2/5] END C=1000, gamma=0.0001, kernel=linear;, score=0.846 total time=   6.5s\n",
      "[CV 3/5] END C=1000, gamma=0.0001, kernel=linear;, score=0.851 total time=   6.5s\n",
      "[CV 4/5] END C=1000, gamma=0.0001, kernel=linear;, score=0.854 total time=   6.3s\n",
      "[CV 5/5] END C=1000, gamma=0.0001, kernel=linear;, score=0.851 total time=   6.4s\n",
      "[CV 1/5] END ..C=1000, gamma=0.0001, kernel=rbf;, score=0.861 total time=   7.0s\n",
      "[CV 2/5] END ..C=1000, gamma=0.0001, kernel=rbf;, score=0.855 total time=   7.1s\n",
      "[CV 3/5] END ..C=1000, gamma=0.0001, kernel=rbf;, score=0.850 total time=   6.2s\n",
      "[CV 4/5] END ..C=1000, gamma=0.0001, kernel=rbf;, score=0.863 total time=   7.0s\n",
      "[CV 5/5] END ..C=1000, gamma=0.0001, kernel=rbf;, score=0.854 total time=   6.8s\n",
      "{'C': 100, 'gamma': 0.0001, 'kernel': 'rbf'}\n",
      "SVC(C=100, gamma=0.0001)\n"
     ]
    }
   ],
   "source": [
    "# Parameters to test for each SVM type\n",
    "parameters = {\n",
    "    'C': [0.1, 1, 10, 100, 1000],\n",
    "    'gamma': [1, 0.1, 0.01, 0.001, 0.0001],\n",
    "    'kernel': ['linear', 'rbf']\n",
    "}\n",
    "# SVM model\n",
    "svm_model = svm.SVC()\n",
    "\n",
    "# Find the best hyperparameters for each SVM type\n",
    "grid_svm = GridSearchCV(svm_model, parameters, refit = True, verbose = 3)\n",
    "grid_svm.fit(X_train, y_train)\n",
    "\n",
    "# print best parameter after tuning\n",
    "print(grid_svm.best_params_)\n",
    "\n",
    "# print how our model looks after hyper-parameter tuning\n",
    "print(grid_svm.best_estimator_)"
   ]
  },
  {
   "cell_type": "markdown",
   "metadata": {},
   "source": [
    "#### 5- regression model:"
   ]
  },
  {
   "cell_type": "code",
   "execution_count": 24,
   "metadata": {},
   "outputs": [
    {
     "name": "stderr",
     "output_type": "stream",
     "text": [
      "C:\\Users\\asus\\programing\\ML\\.env\\Lib\\site-packages\\sklearn\\linear_model\\_logistic.py:458: ConvergenceWarning: lbfgs failed to converge (status=1):\n",
      "STOP: TOTAL NO. of ITERATIONS REACHED LIMIT.\n",
      "\n",
      "Increase the number of iterations (max_iter) or scale the data as shown in:\n",
      "    https://scikit-learn.org/stable/modules/preprocessing.html\n",
      "Please also refer to the documentation for alternative solver options:\n",
      "    https://scikit-learn.org/stable/modules/linear_model.html#logistic-regression\n",
      "  n_iter_i = _check_optimize_result(\n"
     ]
    },
    {
     "data": {
      "text/html": [
       "<style>#sk-container-id-3 {color: black;background-color: white;}#sk-container-id-3 pre{padding: 0;}#sk-container-id-3 div.sk-toggleable {background-color: white;}#sk-container-id-3 label.sk-toggleable__label {cursor: pointer;display: block;width: 100%;margin-bottom: 0;padding: 0.3em;box-sizing: border-box;text-align: center;}#sk-container-id-3 label.sk-toggleable__label-arrow:before {content: \"▸\";float: left;margin-right: 0.25em;color: #696969;}#sk-container-id-3 label.sk-toggleable__label-arrow:hover:before {color: black;}#sk-container-id-3 div.sk-estimator:hover label.sk-toggleable__label-arrow:before {color: black;}#sk-container-id-3 div.sk-toggleable__content {max-height: 0;max-width: 0;overflow: hidden;text-align: left;background-color: #f0f8ff;}#sk-container-id-3 div.sk-toggleable__content pre {margin: 0.2em;color: black;border-radius: 0.25em;background-color: #f0f8ff;}#sk-container-id-3 input.sk-toggleable__control:checked~div.sk-toggleable__content {max-height: 200px;max-width: 100%;overflow: auto;}#sk-container-id-3 input.sk-toggleable__control:checked~label.sk-toggleable__label-arrow:before {content: \"▾\";}#sk-container-id-3 div.sk-estimator input.sk-toggleable__control:checked~label.sk-toggleable__label {background-color: #d4ebff;}#sk-container-id-3 div.sk-label input.sk-toggleable__control:checked~label.sk-toggleable__label {background-color: #d4ebff;}#sk-container-id-3 input.sk-hidden--visually {border: 0;clip: rect(1px 1px 1px 1px);clip: rect(1px, 1px, 1px, 1px);height: 1px;margin: -1px;overflow: hidden;padding: 0;position: absolute;width: 1px;}#sk-container-id-3 div.sk-estimator {font-family: monospace;background-color: #f0f8ff;border: 1px dotted black;border-radius: 0.25em;box-sizing: border-box;margin-bottom: 0.5em;}#sk-container-id-3 div.sk-estimator:hover {background-color: #d4ebff;}#sk-container-id-3 div.sk-parallel-item::after {content: \"\";width: 100%;border-bottom: 1px solid gray;flex-grow: 1;}#sk-container-id-3 div.sk-label:hover label.sk-toggleable__label {background-color: #d4ebff;}#sk-container-id-3 div.sk-serial::before {content: \"\";position: absolute;border-left: 1px solid gray;box-sizing: border-box;top: 0;bottom: 0;left: 50%;z-index: 0;}#sk-container-id-3 div.sk-serial {display: flex;flex-direction: column;align-items: center;background-color: white;padding-right: 0.2em;padding-left: 0.2em;position: relative;}#sk-container-id-3 div.sk-item {position: relative;z-index: 1;}#sk-container-id-3 div.sk-parallel {display: flex;align-items: stretch;justify-content: center;background-color: white;position: relative;}#sk-container-id-3 div.sk-item::before, #sk-container-id-3 div.sk-parallel-item::before {content: \"\";position: absolute;border-left: 1px solid gray;box-sizing: border-box;top: 0;bottom: 0;left: 50%;z-index: -1;}#sk-container-id-3 div.sk-parallel-item {display: flex;flex-direction: column;z-index: 1;position: relative;background-color: white;}#sk-container-id-3 div.sk-parallel-item:first-child::after {align-self: flex-end;width: 50%;}#sk-container-id-3 div.sk-parallel-item:last-child::after {align-self: flex-start;width: 50%;}#sk-container-id-3 div.sk-parallel-item:only-child::after {width: 0;}#sk-container-id-3 div.sk-dashed-wrapped {border: 1px dashed gray;margin: 0 0.4em 0.5em 0.4em;box-sizing: border-box;padding-bottom: 0.4em;background-color: white;}#sk-container-id-3 div.sk-label label {font-family: monospace;font-weight: bold;display: inline-block;line-height: 1.2em;}#sk-container-id-3 div.sk-label-container {text-align: center;}#sk-container-id-3 div.sk-container {/* jupyter's `normalize.less` sets `[hidden] { display: none; }` but bootstrap.min.css set `[hidden] { display: none !important; }` so we also need the `!important` here to be able to override the default hidden behavior on the sphinx rendered scikit-learn.org. See: https://github.com/scikit-learn/scikit-learn/issues/21755 */display: inline-block !important;position: relative;}#sk-container-id-3 div.sk-text-repr-fallback {display: none;}</style><div id=\"sk-container-id-3\" class=\"sk-top-container\"><div class=\"sk-text-repr-fallback\"><pre>LogisticRegression()</pre><b>In a Jupyter environment, please rerun this cell to show the HTML representation or trust the notebook. <br />On GitHub, the HTML representation is unable to render, please try loading this page with nbviewer.org.</b></div><div class=\"sk-container\" hidden><div class=\"sk-item\"><div class=\"sk-estimator sk-toggleable\"><input class=\"sk-toggleable__control sk-hidden--visually\" id=\"sk-estimator-id-3\" type=\"checkbox\" checked><label for=\"sk-estimator-id-3\" class=\"sk-toggleable__label sk-toggleable__label-arrow\">LogisticRegression</label><div class=\"sk-toggleable__content\"><pre>LogisticRegression()</pre></div></div></div></div></div>"
      ],
      "text/plain": [
       "LogisticRegression()"
      ]
     },
     "execution_count": 24,
     "metadata": {},
     "output_type": "execute_result"
    }
   ],
   "source": [
    "regression_model = LogisticRegression()\n",
    "regression_model.fit(X_train,y_train)"
   ]
  },
  {
   "cell_type": "code",
   "execution_count": 25,
   "metadata": {},
   "outputs": [
    {
     "name": "stdout",
     "output_type": "stream",
     "text": [
      "              precision    recall  f1-score   support\n",
      "\n",
      "           0       0.90      0.86      0.88       501\n",
      "           1       0.86      0.91      0.88       499\n",
      "\n",
      "    accuracy                           0.88      1000\n",
      "   macro avg       0.88      0.88      0.88      1000\n",
      "weighted avg       0.88      0.88      0.88      1000\n",
      "\n"
     ]
    }
   ],
   "source": [
    "y_predicted = regression_model.predict(X_test)\n",
    "\n",
    "# print classification report\n",
    "print(classification_report(y_test, y_predicted))"
   ]
  },
  {
   "cell_type": "markdown",
   "metadata": {},
   "source": [
    "#### 6- using naive byes:"
   ]
  },
  {
   "cell_type": "code",
   "execution_count": 26,
   "metadata": {},
   "outputs": [
    {
     "data": {
      "text/html": [
       "<style>#sk-container-id-4 {color: black;background-color: white;}#sk-container-id-4 pre{padding: 0;}#sk-container-id-4 div.sk-toggleable {background-color: white;}#sk-container-id-4 label.sk-toggleable__label {cursor: pointer;display: block;width: 100%;margin-bottom: 0;padding: 0.3em;box-sizing: border-box;text-align: center;}#sk-container-id-4 label.sk-toggleable__label-arrow:before {content: \"▸\";float: left;margin-right: 0.25em;color: #696969;}#sk-container-id-4 label.sk-toggleable__label-arrow:hover:before {color: black;}#sk-container-id-4 div.sk-estimator:hover label.sk-toggleable__label-arrow:before {color: black;}#sk-container-id-4 div.sk-toggleable__content {max-height: 0;max-width: 0;overflow: hidden;text-align: left;background-color: #f0f8ff;}#sk-container-id-4 div.sk-toggleable__content pre {margin: 0.2em;color: black;border-radius: 0.25em;background-color: #f0f8ff;}#sk-container-id-4 input.sk-toggleable__control:checked~div.sk-toggleable__content {max-height: 200px;max-width: 100%;overflow: auto;}#sk-container-id-4 input.sk-toggleable__control:checked~label.sk-toggleable__label-arrow:before {content: \"▾\";}#sk-container-id-4 div.sk-estimator input.sk-toggleable__control:checked~label.sk-toggleable__label {background-color: #d4ebff;}#sk-container-id-4 div.sk-label input.sk-toggleable__control:checked~label.sk-toggleable__label {background-color: #d4ebff;}#sk-container-id-4 input.sk-hidden--visually {border: 0;clip: rect(1px 1px 1px 1px);clip: rect(1px, 1px, 1px, 1px);height: 1px;margin: -1px;overflow: hidden;padding: 0;position: absolute;width: 1px;}#sk-container-id-4 div.sk-estimator {font-family: monospace;background-color: #f0f8ff;border: 1px dotted black;border-radius: 0.25em;box-sizing: border-box;margin-bottom: 0.5em;}#sk-container-id-4 div.sk-estimator:hover {background-color: #d4ebff;}#sk-container-id-4 div.sk-parallel-item::after {content: \"\";width: 100%;border-bottom: 1px solid gray;flex-grow: 1;}#sk-container-id-4 div.sk-label:hover label.sk-toggleable__label {background-color: #d4ebff;}#sk-container-id-4 div.sk-serial::before {content: \"\";position: absolute;border-left: 1px solid gray;box-sizing: border-box;top: 0;bottom: 0;left: 50%;z-index: 0;}#sk-container-id-4 div.sk-serial {display: flex;flex-direction: column;align-items: center;background-color: white;padding-right: 0.2em;padding-left: 0.2em;position: relative;}#sk-container-id-4 div.sk-item {position: relative;z-index: 1;}#sk-container-id-4 div.sk-parallel {display: flex;align-items: stretch;justify-content: center;background-color: white;position: relative;}#sk-container-id-4 div.sk-item::before, #sk-container-id-4 div.sk-parallel-item::before {content: \"\";position: absolute;border-left: 1px solid gray;box-sizing: border-box;top: 0;bottom: 0;left: 50%;z-index: -1;}#sk-container-id-4 div.sk-parallel-item {display: flex;flex-direction: column;z-index: 1;position: relative;background-color: white;}#sk-container-id-4 div.sk-parallel-item:first-child::after {align-self: flex-end;width: 50%;}#sk-container-id-4 div.sk-parallel-item:last-child::after {align-self: flex-start;width: 50%;}#sk-container-id-4 div.sk-parallel-item:only-child::after {width: 0;}#sk-container-id-4 div.sk-dashed-wrapped {border: 1px dashed gray;margin: 0 0.4em 0.5em 0.4em;box-sizing: border-box;padding-bottom: 0.4em;background-color: white;}#sk-container-id-4 div.sk-label label {font-family: monospace;font-weight: bold;display: inline-block;line-height: 1.2em;}#sk-container-id-4 div.sk-label-container {text-align: center;}#sk-container-id-4 div.sk-container {/* jupyter's `normalize.less` sets `[hidden] { display: none; }` but bootstrap.min.css set `[hidden] { display: none !important; }` so we also need the `!important` here to be able to override the default hidden behavior on the sphinx rendered scikit-learn.org. See: https://github.com/scikit-learn/scikit-learn/issues/21755 */display: inline-block !important;position: relative;}#sk-container-id-4 div.sk-text-repr-fallback {display: none;}</style><div id=\"sk-container-id-4\" class=\"sk-top-container\"><div class=\"sk-text-repr-fallback\"><pre>MultinomialNB()</pre><b>In a Jupyter environment, please rerun this cell to show the HTML representation or trust the notebook. <br />On GitHub, the HTML representation is unable to render, please try loading this page with nbviewer.org.</b></div><div class=\"sk-container\" hidden><div class=\"sk-item\"><div class=\"sk-estimator sk-toggleable\"><input class=\"sk-toggleable__control sk-hidden--visually\" id=\"sk-estimator-id-4\" type=\"checkbox\" checked><label for=\"sk-estimator-id-4\" class=\"sk-toggleable__label sk-toggleable__label-arrow\">MultinomialNB</label><div class=\"sk-toggleable__content\"><pre>MultinomialNB()</pre></div></div></div></div></div>"
      ],
      "text/plain": [
       "MultinomialNB()"
      ]
     },
     "execution_count": 26,
     "metadata": {},
     "output_type": "execute_result"
    }
   ],
   "source": [
    "naive_byes_model = MultinomialNB()\n",
    "naive_byes_model.fit(X_train, y_train)"
   ]
  },
  {
   "cell_type": "code",
   "execution_count": 27,
   "metadata": {},
   "outputs": [
    {
     "name": "stdout",
     "output_type": "stream",
     "text": [
      "              precision    recall  f1-score   support\n",
      "\n",
      "           0       0.89      0.90      0.89       501\n",
      "           1       0.90      0.89      0.89       499\n",
      "\n",
      "    accuracy                           0.89      1000\n",
      "   macro avg       0.89      0.89      0.89      1000\n",
      "weighted avg       0.89      0.89      0.89      1000\n",
      "\n"
     ]
    }
   ],
   "source": [
    "y_predicted = naive_byes_model.predict(X_test)\n",
    "\n",
    "# print classification report\n",
    "print(classification_report(y_test, y_predicted))"
   ]
  },
  {
   "cell_type": "markdown",
   "metadata": {},
   "source": [
    "#### 7- using KNN:"
   ]
  },
  {
   "cell_type": "code",
   "execution_count": 29,
   "metadata": {},
   "outputs": [
    {
     "name": "stdout",
     "output_type": "stream",
     "text": [
      "Fitting 5 folds for each of 50 candidates, totalling 250 fits\n",
      "[CV 1/5] END .....................n_neighbors=1;, score=0.594 total time=   0.1s\n",
      "[CV 2/5] END .....................n_neighbors=1;, score=0.559 total time=   0.1s\n",
      "[CV 3/5] END .....................n_neighbors=1;, score=0.615 total time=   0.1s\n",
      "[CV 4/5] END .....................n_neighbors=1;, score=0.604 total time=   0.2s\n",
      "[CV 5/5] END .....................n_neighbors=1;, score=0.578 total time=   0.1s\n",
      "[CV 1/5] END .....................n_neighbors=3;, score=0.601 total time=   0.1s\n",
      "[CV 2/5] END .....................n_neighbors=3;, score=0.623 total time=   0.1s\n",
      "[CV 3/5] END .....................n_neighbors=3;, score=0.586 total time=   0.2s\n",
      "[CV 4/5] END .....................n_neighbors=3;, score=0.615 total time=   0.1s\n",
      "[CV 5/5] END .....................n_neighbors=3;, score=0.620 total time=   0.1s\n",
      "[CV 1/5] END .....................n_neighbors=5;, score=0.614 total time=   0.1s\n",
      "[CV 2/5] END .....................n_neighbors=5;, score=0.654 total time=   0.2s\n",
      "[CV 3/5] END .....................n_neighbors=5;, score=0.603 total time=   0.2s\n",
      "[CV 4/5] END .....................n_neighbors=5;, score=0.624 total time=   0.1s\n",
      "[CV 5/5] END .....................n_neighbors=5;, score=0.619 total time=   0.1s\n",
      "[CV 1/5] END .....................n_neighbors=7;, score=0.637 total time=   0.1s\n",
      "[CV 2/5] END .....................n_neighbors=7;, score=0.670 total time=   0.1s\n",
      "[CV 3/5] END .....................n_neighbors=7;, score=0.629 total time=   0.2s\n",
      "[CV 4/5] END .....................n_neighbors=7;, score=0.654 total time=   0.1s\n",
      "[CV 5/5] END .....................n_neighbors=7;, score=0.635 total time=   0.1s\n",
      "[CV 1/5] END .....................n_neighbors=9;, score=0.656 total time=   0.1s\n",
      "[CV 2/5] END .....................n_neighbors=9;, score=0.665 total time=   0.1s\n",
      "[CV 3/5] END .....................n_neighbors=9;, score=0.645 total time=   0.1s\n",
      "[CV 4/5] END .....................n_neighbors=9;, score=0.659 total time=   0.1s\n",
      "[CV 5/5] END .....................n_neighbors=9;, score=0.645 total time=   0.2s\n",
      "[CV 1/5] END ....................n_neighbors=11;, score=0.656 total time=   0.1s\n",
      "[CV 2/5] END ....................n_neighbors=11;, score=0.649 total time=   0.1s\n",
      "[CV 3/5] END ....................n_neighbors=11;, score=0.650 total time=   0.1s\n",
      "[CV 4/5] END ....................n_neighbors=11;, score=0.665 total time=   0.1s\n",
      "[CV 5/5] END ....................n_neighbors=11;, score=0.674 total time=   0.1s\n",
      "[CV 1/5] END ....................n_neighbors=13;, score=0.652 total time=   0.1s\n",
      "[CV 2/5] END ....................n_neighbors=13;, score=0.657 total time=   0.2s\n",
      "[CV 3/5] END ....................n_neighbors=13;, score=0.650 total time=   0.1s\n",
      "[CV 4/5] END ....................n_neighbors=13;, score=0.662 total time=   0.1s\n",
      "[CV 5/5] END ....................n_neighbors=13;, score=0.689 total time=   0.1s\n",
      "[CV 1/5] END ....................n_neighbors=15;, score=0.665 total time=   0.1s\n",
      "[CV 2/5] END ....................n_neighbors=15;, score=0.650 total time=   0.1s\n",
      "[CV 3/5] END ....................n_neighbors=15;, score=0.647 total time=   0.1s\n",
      "[CV 4/5] END ....................n_neighbors=15;, score=0.656 total time=   0.1s\n",
      "[CV 5/5] END ....................n_neighbors=15;, score=0.676 total time=   0.1s\n",
      "[CV 1/5] END ....................n_neighbors=17;, score=0.659 total time=   0.1s\n",
      "[CV 2/5] END ....................n_neighbors=17;, score=0.649 total time=   0.1s\n",
      "[CV 3/5] END ....................n_neighbors=17;, score=0.654 total time=   0.1s\n",
      "[CV 4/5] END ....................n_neighbors=17;, score=0.667 total time=   0.2s\n",
      "[CV 5/5] END ....................n_neighbors=17;, score=0.677 total time=   0.1s\n",
      "[CV 1/5] END ....................n_neighbors=19;, score=0.656 total time=   0.1s\n",
      "[CV 2/5] END ....................n_neighbors=19;, score=0.654 total time=   0.1s\n",
      "[CV 3/5] END ....................n_neighbors=19;, score=0.640 total time=   0.1s\n",
      "[CV 4/5] END ....................n_neighbors=19;, score=0.649 total time=   0.1s\n",
      "[CV 5/5] END ....................n_neighbors=19;, score=0.681 total time=   0.1s\n",
      "[CV 1/5] END ....................n_neighbors=21;, score=0.656 total time=   0.2s\n",
      "[CV 2/5] END ....................n_neighbors=21;, score=0.651 total time=   0.1s\n",
      "[CV 3/5] END ....................n_neighbors=21;, score=0.636 total time=   0.2s\n",
      "[CV 4/5] END ....................n_neighbors=21;, score=0.657 total time=   0.1s\n",
      "[CV 5/5] END ....................n_neighbors=21;, score=0.666 total time=   0.2s\n",
      "[CV 1/5] END ....................n_neighbors=23;, score=0.657 total time=   0.1s\n",
      "[CV 2/5] END ....................n_neighbors=23;, score=0.670 total time=   0.1s\n",
      "[CV 3/5] END ....................n_neighbors=23;, score=0.640 total time=   0.2s\n",
      "[CV 4/5] END ....................n_neighbors=23;, score=0.654 total time=   0.1s\n",
      "[CV 5/5] END ....................n_neighbors=23;, score=0.664 total time=   0.2s\n",
      "[CV 1/5] END ....................n_neighbors=25;, score=0.662 total time=   0.1s\n",
      "[CV 2/5] END ....................n_neighbors=25;, score=0.660 total time=   0.1s\n",
      "[CV 3/5] END ....................n_neighbors=25;, score=0.623 total time=   0.2s\n",
      "[CV 4/5] END ....................n_neighbors=25;, score=0.661 total time=   0.1s\n",
      "[CV 5/5] END ....................n_neighbors=25;, score=0.666 total time=   0.1s\n",
      "[CV 1/5] END ....................n_neighbors=27;, score=0.655 total time=   0.1s\n",
      "[CV 2/5] END ....................n_neighbors=27;, score=0.664 total time=   0.1s\n",
      "[CV 3/5] END ....................n_neighbors=27;, score=0.619 total time=   0.1s\n",
      "[CV 4/5] END ....................n_neighbors=27;, score=0.661 total time=   0.1s\n",
      "[CV 5/5] END ....................n_neighbors=27;, score=0.670 total time=   0.1s\n",
      "[CV 1/5] END ....................n_neighbors=29;, score=0.659 total time=   0.1s\n",
      "[CV 2/5] END ....................n_neighbors=29;, score=0.665 total time=   0.1s\n",
      "[CV 3/5] END ....................n_neighbors=29;, score=0.618 total time=   0.2s\n",
      "[CV 4/5] END ....................n_neighbors=29;, score=0.657 total time=   0.2s\n",
      "[CV 5/5] END ....................n_neighbors=29;, score=0.681 total time=   0.1s\n",
      "[CV 1/5] END ....................n_neighbors=31;, score=0.650 total time=   0.2s\n",
      "[CV 2/5] END ....................n_neighbors=31;, score=0.660 total time=   0.1s\n",
      "[CV 3/5] END ....................n_neighbors=31;, score=0.620 total time=   0.2s\n",
      "[CV 4/5] END ....................n_neighbors=31;, score=0.649 total time=   0.1s\n",
      "[CV 5/5] END ....................n_neighbors=31;, score=0.669 total time=   0.1s\n",
      "[CV 1/5] END ....................n_neighbors=33;, score=0.657 total time=   0.1s\n",
      "[CV 2/5] END ....................n_neighbors=33;, score=0.666 total time=   0.1s\n",
      "[CV 3/5] END ....................n_neighbors=33;, score=0.629 total time=   0.2s\n",
      "[CV 4/5] END ....................n_neighbors=33;, score=0.656 total time=   0.1s\n",
      "[CV 5/5] END ....................n_neighbors=33;, score=0.665 total time=   0.1s\n",
      "[CV 1/5] END ....................n_neighbors=35;, score=0.651 total time=   0.1s\n",
      "[CV 2/5] END ....................n_neighbors=35;, score=0.662 total time=   0.1s\n",
      "[CV 3/5] END ....................n_neighbors=35;, score=0.632 total time=   0.2s\n",
      "[CV 4/5] END ....................n_neighbors=35;, score=0.666 total time=   0.1s\n",
      "[CV 5/5] END ....................n_neighbors=35;, score=0.655 total time=   0.2s\n",
      "[CV 1/5] END ....................n_neighbors=37;, score=0.647 total time=   0.2s\n",
      "[CV 2/5] END ....................n_neighbors=37;, score=0.656 total time=   0.1s\n",
      "[CV 3/5] END ....................n_neighbors=37;, score=0.631 total time=   0.1s\n",
      "[CV 4/5] END ....................n_neighbors=37;, score=0.662 total time=   0.1s\n",
      "[CV 5/5] END ....................n_neighbors=37;, score=0.661 total time=   0.1s\n",
      "[CV 1/5] END ....................n_neighbors=39;, score=0.637 total time=   0.1s\n",
      "[CV 2/5] END ....................n_neighbors=39;, score=0.662 total time=   0.1s\n",
      "[CV 3/5] END ....................n_neighbors=39;, score=0.634 total time=   0.2s\n",
      "[CV 4/5] END ....................n_neighbors=39;, score=0.659 total time=   0.2s\n",
      "[CV 5/5] END ....................n_neighbors=39;, score=0.657 total time=   0.2s\n",
      "[CV 1/5] END ....................n_neighbors=41;, score=0.645 total time=   0.1s\n",
      "[CV 2/5] END ....................n_neighbors=41;, score=0.656 total time=   0.1s\n",
      "[CV 3/5] END ....................n_neighbors=41;, score=0.632 total time=   0.2s\n",
      "[CV 4/5] END ....................n_neighbors=41;, score=0.656 total time=   0.2s\n",
      "[CV 5/5] END ....................n_neighbors=41;, score=0.650 total time=   0.2s\n",
      "[CV 1/5] END ....................n_neighbors=43;, score=0.640 total time=   0.1s\n",
      "[CV 2/5] END ....................n_neighbors=43;, score=0.665 total time=   0.1s\n",
      "[CV 3/5] END ....................n_neighbors=43;, score=0.637 total time=   0.2s\n",
      "[CV 4/5] END ....................n_neighbors=43;, score=0.662 total time=   0.2s\n",
      "[CV 5/5] END ....................n_neighbors=43;, score=0.656 total time=   0.1s\n",
      "[CV 1/5] END ....................n_neighbors=45;, score=0.644 total time=   0.1s\n",
      "[CV 2/5] END ....................n_neighbors=45;, score=0.661 total time=   0.1s\n",
      "[CV 3/5] END ....................n_neighbors=45;, score=0.632 total time=   0.2s\n",
      "[CV 4/5] END ....................n_neighbors=45;, score=0.666 total time=   0.1s\n",
      "[CV 5/5] END ....................n_neighbors=45;, score=0.665 total time=   0.1s\n",
      "[CV 1/5] END ....................n_neighbors=47;, score=0.647 total time=   0.1s\n",
      "[CV 2/5] END ....................n_neighbors=47;, score=0.669 total time=   0.1s\n",
      "[CV 3/5] END ....................n_neighbors=47;, score=0.634 total time=   0.2s\n",
      "[CV 4/5] END ....................n_neighbors=47;, score=0.656 total time=   0.2s\n",
      "[CV 5/5] END ....................n_neighbors=47;, score=0.657 total time=   0.2s\n",
      "[CV 1/5] END ....................n_neighbors=49;, score=0.641 total time=   0.1s\n",
      "[CV 2/5] END ....................n_neighbors=49;, score=0.670 total time=   0.1s\n",
      "[CV 3/5] END ....................n_neighbors=49;, score=0.632 total time=   0.1s\n",
      "[CV 4/5] END ....................n_neighbors=49;, score=0.649 total time=   0.1s\n",
      "[CV 5/5] END ....................n_neighbors=49;, score=0.661 total time=   0.1s\n",
      "[CV 1/5] END ....................n_neighbors=51;, score=0.636 total time=   0.1s\n",
      "[CV 2/5] END ....................n_neighbors=51;, score=0.667 total time=   0.1s\n",
      "[CV 3/5] END ....................n_neighbors=51;, score=0.640 total time=   0.1s\n",
      "[CV 4/5] END ....................n_neighbors=51;, score=0.655 total time=   0.1s\n",
      "[CV 5/5] END ....................n_neighbors=51;, score=0.665 total time=   0.2s\n",
      "[CV 1/5] END ....................n_neighbors=53;, score=0.640 total time=   0.1s\n",
      "[CV 2/5] END ....................n_neighbors=53;, score=0.665 total time=   0.1s\n",
      "[CV 3/5] END ....................n_neighbors=53;, score=0.646 total time=   0.1s\n",
      "[CV 4/5] END ....................n_neighbors=53;, score=0.664 total time=   0.2s\n",
      "[CV 5/5] END ....................n_neighbors=53;, score=0.669 total time=   0.1s\n",
      "[CV 1/5] END ....................n_neighbors=55;, score=0.629 total time=   0.1s\n",
      "[CV 2/5] END ....................n_neighbors=55;, score=0.652 total time=   0.1s\n",
      "[CV 3/5] END ....................n_neighbors=55;, score=0.636 total time=   0.1s\n",
      "[CV 4/5] END ....................n_neighbors=55;, score=0.659 total time=   0.2s\n",
      "[CV 5/5] END ....................n_neighbors=55;, score=0.666 total time=   0.2s\n",
      "[CV 1/5] END ....................n_neighbors=57;, score=0.631 total time=   0.1s\n",
      "[CV 2/5] END ....................n_neighbors=57;, score=0.649 total time=   0.1s\n",
      "[CV 3/5] END ....................n_neighbors=57;, score=0.630 total time=   0.2s\n",
      "[CV 4/5] END ....................n_neighbors=57;, score=0.652 total time=   0.1s\n",
      "[CV 5/5] END ....................n_neighbors=57;, score=0.669 total time=   0.1s\n",
      "[CV 1/5] END ....................n_neighbors=59;, score=0.629 total time=   0.1s\n",
      "[CV 2/5] END ....................n_neighbors=59;, score=0.646 total time=   0.2s\n",
      "[CV 3/5] END ....................n_neighbors=59;, score=0.631 total time=   0.2s\n",
      "[CV 4/5] END ....................n_neighbors=59;, score=0.649 total time=   0.1s\n",
      "[CV 5/5] END ....................n_neighbors=59;, score=0.662 total time=   0.1s\n",
      "[CV 1/5] END ....................n_neighbors=61;, score=0.627 total time=   0.1s\n",
      "[CV 2/5] END ....................n_neighbors=61;, score=0.649 total time=   0.1s\n",
      "[CV 3/5] END ....................n_neighbors=61;, score=0.627 total time=   0.1s\n",
      "[CV 4/5] END ....................n_neighbors=61;, score=0.656 total time=   0.1s\n",
      "[CV 5/5] END ....................n_neighbors=61;, score=0.661 total time=   0.1s\n",
      "[CV 1/5] END ....................n_neighbors=63;, score=0.635 total time=   0.1s\n",
      "[CV 2/5] END ....................n_neighbors=63;, score=0.649 total time=   0.1s\n",
      "[CV 3/5] END ....................n_neighbors=63;, score=0.626 total time=   0.1s\n",
      "[CV 4/5] END ....................n_neighbors=63;, score=0.649 total time=   0.1s\n",
      "[CV 5/5] END ....................n_neighbors=63;, score=0.657 total time=   0.1s\n",
      "[CV 1/5] END ....................n_neighbors=65;, score=0.626 total time=   0.2s\n",
      "[CV 2/5] END ....................n_neighbors=65;, score=0.652 total time=   0.2s\n",
      "[CV 3/5] END ....................n_neighbors=65;, score=0.625 total time=   0.1s\n",
      "[CV 4/5] END ....................n_neighbors=65;, score=0.659 total time=   0.1s\n",
      "[CV 5/5] END ....................n_neighbors=65;, score=0.664 total time=   0.1s\n",
      "[CV 1/5] END ....................n_neighbors=67;, score=0.634 total time=   0.1s\n",
      "[CV 2/5] END ....................n_neighbors=67;, score=0.646 total time=   0.1s\n",
      "[CV 3/5] END ....................n_neighbors=67;, score=0.621 total time=   0.2s\n",
      "[CV 4/5] END ....................n_neighbors=67;, score=0.654 total time=   0.1s\n",
      "[CV 5/5] END ....................n_neighbors=67;, score=0.647 total time=   0.1s\n",
      "[CV 1/5] END ....................n_neighbors=69;, score=0.629 total time=   0.1s\n",
      "[CV 2/5] END ....................n_neighbors=69;, score=0.646 total time=   0.1s\n",
      "[CV 3/5] END ....................n_neighbors=69;, score=0.629 total time=   0.1s\n",
      "[CV 4/5] END ....................n_neighbors=69;, score=0.656 total time=   0.1s\n",
      "[CV 5/5] END ....................n_neighbors=69;, score=0.651 total time=   0.1s\n",
      "[CV 1/5] END ....................n_neighbors=71;, score=0.630 total time=   0.1s\n",
      "[CV 2/5] END ....................n_neighbors=71;, score=0.645 total time=   0.1s\n",
      "[CV 3/5] END ....................n_neighbors=71;, score=0.621 total time=   0.1s\n",
      "[CV 4/5] END ....................n_neighbors=71;, score=0.651 total time=   0.1s\n",
      "[CV 5/5] END ....................n_neighbors=71;, score=0.652 total time=   0.2s\n",
      "[CV 1/5] END ....................n_neighbors=73;, score=0.623 total time=   0.1s\n",
      "[CV 2/5] END ....................n_neighbors=73;, score=0.641 total time=   0.1s\n",
      "[CV 3/5] END ....................n_neighbors=73;, score=0.616 total time=   0.1s\n",
      "[CV 4/5] END ....................n_neighbors=73;, score=0.644 total time=   0.1s\n",
      "[CV 5/5] END ....................n_neighbors=73;, score=0.640 total time=   0.1s\n",
      "[CV 1/5] END ....................n_neighbors=75;, score=0.626 total time=   0.1s\n",
      "[CV 2/5] END ....................n_neighbors=75;, score=0.642 total time=   0.2s\n",
      "[CV 3/5] END ....................n_neighbors=75;, score=0.616 total time=   0.2s\n",
      "[CV 4/5] END ....................n_neighbors=75;, score=0.646 total time=   0.1s\n",
      "[CV 5/5] END ....................n_neighbors=75;, score=0.646 total time=   0.1s\n",
      "[CV 1/5] END ....................n_neighbors=77;, score=0.623 total time=   0.1s\n",
      "[CV 2/5] END ....................n_neighbors=77;, score=0.646 total time=   0.1s\n",
      "[CV 3/5] END ....................n_neighbors=77;, score=0.613 total time=   0.1s\n",
      "[CV 4/5] END ....................n_neighbors=77;, score=0.644 total time=   0.1s\n",
      "[CV 5/5] END ....................n_neighbors=77;, score=0.645 total time=   0.2s\n",
      "[CV 1/5] END ....................n_neighbors=79;, score=0.623 total time=   0.2s\n",
      "[CV 2/5] END ....................n_neighbors=79;, score=0.640 total time=   0.1s\n",
      "[CV 3/5] END ....................n_neighbors=79;, score=0.615 total time=   0.1s\n",
      "[CV 4/5] END ....................n_neighbors=79;, score=0.642 total time=   0.1s\n",
      "[CV 5/5] END ....................n_neighbors=79;, score=0.640 total time=   0.2s\n",
      "[CV 1/5] END ....................n_neighbors=81;, score=0.631 total time=   0.2s\n",
      "[CV 2/5] END ....................n_neighbors=81;, score=0.641 total time=   0.1s\n",
      "[CV 3/5] END ....................n_neighbors=81;, score=0.618 total time=   0.1s\n",
      "[CV 4/5] END ....................n_neighbors=81;, score=0.639 total time=   0.1s\n",
      "[CV 5/5] END ....................n_neighbors=81;, score=0.649 total time=   0.1s\n",
      "[CV 1/5] END ....................n_neighbors=83;, score=0.637 total time=   0.1s\n",
      "[CV 2/5] END ....................n_neighbors=83;, score=0.639 total time=   0.1s\n",
      "[CV 3/5] END ....................n_neighbors=83;, score=0.620 total time=   0.2s\n",
      "[CV 4/5] END ....................n_neighbors=83;, score=0.646 total time=   0.2s\n",
      "[CV 5/5] END ....................n_neighbors=83;, score=0.645 total time=   0.1s\n",
      "[CV 1/5] END ....................n_neighbors=85;, score=0.623 total time=   0.1s\n",
      "[CV 2/5] END ....................n_neighbors=85;, score=0.642 total time=   0.1s\n",
      "[CV 3/5] END ....................n_neighbors=85;, score=0.613 total time=   0.1s\n",
      "[CV 4/5] END ....................n_neighbors=85;, score=0.647 total time=   0.1s\n",
      "[CV 5/5] END ....................n_neighbors=85;, score=0.644 total time=   0.1s\n",
      "[CV 1/5] END ....................n_neighbors=87;, score=0.629 total time=   0.1s\n",
      "[CV 2/5] END ....................n_neighbors=87;, score=0.641 total time=   0.2s\n",
      "[CV 3/5] END ....................n_neighbors=87;, score=0.609 total time=   0.2s\n",
      "[CV 4/5] END ....................n_neighbors=87;, score=0.640 total time=   0.1s\n",
      "[CV 5/5] END ....................n_neighbors=87;, score=0.644 total time=   0.1s\n",
      "[CV 1/5] END ....................n_neighbors=89;, score=0.636 total time=   0.1s\n",
      "[CV 2/5] END ....................n_neighbors=89;, score=0.637 total time=   0.1s\n",
      "[CV 3/5] END ....................n_neighbors=89;, score=0.608 total time=   0.2s\n",
      "[CV 4/5] END ....................n_neighbors=89;, score=0.642 total time=   0.1s\n",
      "[CV 5/5] END ....................n_neighbors=89;, score=0.641 total time=   0.1s\n",
      "[CV 1/5] END ....................n_neighbors=91;, score=0.636 total time=   0.1s\n",
      "[CV 2/5] END ....................n_neighbors=91;, score=0.647 total time=   0.2s\n",
      "[CV 3/5] END ....................n_neighbors=91;, score=0.613 total time=   0.1s\n",
      "[CV 4/5] END ....................n_neighbors=91;, score=0.639 total time=   0.2s\n",
      "[CV 5/5] END ....................n_neighbors=91;, score=0.637 total time=   0.2s\n",
      "[CV 1/5] END ....................n_neighbors=93;, score=0.635 total time=   0.1s\n",
      "[CV 2/5] END ....................n_neighbors=93;, score=0.650 total time=   0.2s\n",
      "[CV 3/5] END ....................n_neighbors=93;, score=0.615 total time=   0.1s\n",
      "[CV 4/5] END ....................n_neighbors=93;, score=0.640 total time=   0.2s\n",
      "[CV 5/5] END ....................n_neighbors=93;, score=0.641 total time=   0.1s\n",
      "[CV 1/5] END ....................n_neighbors=95;, score=0.637 total time=   0.1s\n",
      "[CV 2/5] END ....................n_neighbors=95;, score=0.655 total time=   0.1s\n",
      "[CV 3/5] END ....................n_neighbors=95;, score=0.609 total time=   0.2s\n",
      "[CV 4/5] END ....................n_neighbors=95;, score=0.636 total time=   0.1s\n",
      "[CV 5/5] END ....................n_neighbors=95;, score=0.644 total time=   0.1s\n",
      "[CV 1/5] END ....................n_neighbors=97;, score=0.634 total time=   0.1s\n",
      "[CV 2/5] END ....................n_neighbors=97;, score=0.660 total time=   0.1s\n",
      "[CV 3/5] END ....................n_neighbors=97;, score=0.609 total time=   0.2s\n",
      "[CV 4/5] END ....................n_neighbors=97;, score=0.641 total time=   0.1s\n",
      "[CV 5/5] END ....................n_neighbors=97;, score=0.651 total time=   0.1s\n",
      "[CV 1/5] END ....................n_neighbors=99;, score=0.629 total time=   0.1s\n",
      "[CV 2/5] END ....................n_neighbors=99;, score=0.652 total time=   0.1s\n",
      "[CV 3/5] END ....................n_neighbors=99;, score=0.608 total time=   0.1s\n",
      "[CV 4/5] END ....................n_neighbors=99;, score=0.644 total time=   0.1s\n",
      "[CV 5/5] END ....................n_neighbors=99;, score=0.646 total time=   0.1s\n",
      "{'n_neighbors': 13}\n",
      "KNeighborsClassifier(n_neighbors=13)\n"
     ]
    }
   ],
   "source": [
    "parameters = dict(n_neighbors=[i for i in range(1,100) if i%2!= 0])\n",
    "\n",
    "# KNN model\n",
    "knn_model = KNeighborsClassifier()\n",
    "\n",
    "# Find the best hyperparameters for each KNN model\n",
    "grid_knn = GridSearchCV(knn_model, parameters, refit = True, verbose = 3)\n",
    "grid_knn.fit(X_train, y_train)\n",
    "\n",
    "# print best parameter after tuning\n",
    "print(grid_knn.best_params_)\n",
    "\n",
    "# print how our model looks after hyper-parameter tuning\n",
    "print(grid_knn.best_estimator_)"
   ]
  },
  {
   "cell_type": "code",
   "execution_count": 30,
   "metadata": {},
   "outputs": [
    {
     "name": "stdout",
     "output_type": "stream",
     "text": [
      "              precision    recall  f1-score   support\n",
      "\n",
      "           0       0.70      0.53      0.61       501\n",
      "           1       0.62      0.78      0.69       499\n",
      "\n",
      "    accuracy                           0.65      1000\n",
      "   macro avg       0.66      0.65      0.65      1000\n",
      "weighted avg       0.66      0.65      0.65      1000\n",
      "\n"
     ]
    }
   ],
   "source": [
    "grid_predictions = grid_knn.predict(X_test)\n",
    "\n",
    "# print classification report\n",
    "print(classification_report(y_test, grid_predictions))"
   ]
  },
  {
   "cell_type": "markdown",
   "metadata": {},
   "source": [
    "#### 8- using Random forest:"
   ]
  },
  {
   "cell_type": "code",
   "execution_count": 31,
   "metadata": {},
   "outputs": [
    {
     "name": "stdout",
     "output_type": "stream",
     "text": [
      "{'n_estimators': [200, 400, 600, 800, 1000, 1200, 1400, 1600, 1800, 2000], 'max_features': ['auto', 'sqrt'], 'max_depth': [10, 20, 30, 40, 50, 60, 70, 80, 90, 100, 110, None], 'min_samples_split': [2, 5, 10], 'min_samples_leaf': [1, 2, 4], 'bootstrap': [True, False]}\n"
     ]
    }
   ],
   "source": [
    "# Number of trees in random forest\n",
    "n_estimators = [int(x) for x in np.linspace(start = 200, stop = 2000, num = 10)]\n",
    "# Number of features to consider at every split\n",
    "max_features = ['auto', 'sqrt']\n",
    "# Maximum number of levels in tree\n",
    "max_depth = [int(x) for x in np.linspace(10, 110, num = 11)]\n",
    "max_depth.append(None)\n",
    "# Minimum number of samples required to split a node\n",
    "min_samples_split = [2, 5, 10]\n",
    "# Minimum number of samples required at each leaf node\n",
    "min_samples_leaf = [1, 2, 4]\n",
    "# Method of selecting samples for training each tree\n",
    "bootstrap = [True, False]\n",
    "# Create the random grid\n",
    "random_grid = {\n",
    "    'n_estimators': n_estimators,\n",
    "    'max_features': max_features,\n",
    "    'max_depth': max_depth,\n",
    "    'min_samples_split': min_samples_split,\n",
    "    'min_samples_leaf': min_samples_leaf,\n",
    "    'bootstrap': bootstrap\n",
    "}\n",
    "print(random_grid)"
   ]
  },
  {
   "cell_type": "code",
   "execution_count": 32,
   "metadata": {},
   "outputs": [
    {
     "name": "stdout",
     "output_type": "stream",
     "text": [
      "Fitting 3 folds for each of 100 candidates, totalling 300 fits\n"
     ]
    },
    {
     "data": {
      "text/html": [
       "<style>#sk-container-id-5 {color: black;background-color: white;}#sk-container-id-5 pre{padding: 0;}#sk-container-id-5 div.sk-toggleable {background-color: white;}#sk-container-id-5 label.sk-toggleable__label {cursor: pointer;display: block;width: 100%;margin-bottom: 0;padding: 0.3em;box-sizing: border-box;text-align: center;}#sk-container-id-5 label.sk-toggleable__label-arrow:before {content: \"▸\";float: left;margin-right: 0.25em;color: #696969;}#sk-container-id-5 label.sk-toggleable__label-arrow:hover:before {color: black;}#sk-container-id-5 div.sk-estimator:hover label.sk-toggleable__label-arrow:before {color: black;}#sk-container-id-5 div.sk-toggleable__content {max-height: 0;max-width: 0;overflow: hidden;text-align: left;background-color: #f0f8ff;}#sk-container-id-5 div.sk-toggleable__content pre {margin: 0.2em;color: black;border-radius: 0.25em;background-color: #f0f8ff;}#sk-container-id-5 input.sk-toggleable__control:checked~div.sk-toggleable__content {max-height: 200px;max-width: 100%;overflow: auto;}#sk-container-id-5 input.sk-toggleable__control:checked~label.sk-toggleable__label-arrow:before {content: \"▾\";}#sk-container-id-5 div.sk-estimator input.sk-toggleable__control:checked~label.sk-toggleable__label {background-color: #d4ebff;}#sk-container-id-5 div.sk-label input.sk-toggleable__control:checked~label.sk-toggleable__label {background-color: #d4ebff;}#sk-container-id-5 input.sk-hidden--visually {border: 0;clip: rect(1px 1px 1px 1px);clip: rect(1px, 1px, 1px, 1px);height: 1px;margin: -1px;overflow: hidden;padding: 0;position: absolute;width: 1px;}#sk-container-id-5 div.sk-estimator {font-family: monospace;background-color: #f0f8ff;border: 1px dotted black;border-radius: 0.25em;box-sizing: border-box;margin-bottom: 0.5em;}#sk-container-id-5 div.sk-estimator:hover {background-color: #d4ebff;}#sk-container-id-5 div.sk-parallel-item::after {content: \"\";width: 100%;border-bottom: 1px solid gray;flex-grow: 1;}#sk-container-id-5 div.sk-label:hover label.sk-toggleable__label {background-color: #d4ebff;}#sk-container-id-5 div.sk-serial::before {content: \"\";position: absolute;border-left: 1px solid gray;box-sizing: border-box;top: 0;bottom: 0;left: 50%;z-index: 0;}#sk-container-id-5 div.sk-serial {display: flex;flex-direction: column;align-items: center;background-color: white;padding-right: 0.2em;padding-left: 0.2em;position: relative;}#sk-container-id-5 div.sk-item {position: relative;z-index: 1;}#sk-container-id-5 div.sk-parallel {display: flex;align-items: stretch;justify-content: center;background-color: white;position: relative;}#sk-container-id-5 div.sk-item::before, #sk-container-id-5 div.sk-parallel-item::before {content: \"\";position: absolute;border-left: 1px solid gray;box-sizing: border-box;top: 0;bottom: 0;left: 50%;z-index: -1;}#sk-container-id-5 div.sk-parallel-item {display: flex;flex-direction: column;z-index: 1;position: relative;background-color: white;}#sk-container-id-5 div.sk-parallel-item:first-child::after {align-self: flex-end;width: 50%;}#sk-container-id-5 div.sk-parallel-item:last-child::after {align-self: flex-start;width: 50%;}#sk-container-id-5 div.sk-parallel-item:only-child::after {width: 0;}#sk-container-id-5 div.sk-dashed-wrapped {border: 1px dashed gray;margin: 0 0.4em 0.5em 0.4em;box-sizing: border-box;padding-bottom: 0.4em;background-color: white;}#sk-container-id-5 div.sk-label label {font-family: monospace;font-weight: bold;display: inline-block;line-height: 1.2em;}#sk-container-id-5 div.sk-label-container {text-align: center;}#sk-container-id-5 div.sk-container {/* jupyter's `normalize.less` sets `[hidden] { display: none; }` but bootstrap.min.css set `[hidden] { display: none !important; }` so we also need the `!important` here to be able to override the default hidden behavior on the sphinx rendered scikit-learn.org. See: https://github.com/scikit-learn/scikit-learn/issues/21755 */display: inline-block !important;position: relative;}#sk-container-id-5 div.sk-text-repr-fallback {display: none;}</style><div id=\"sk-container-id-5\" class=\"sk-top-container\"><div class=\"sk-text-repr-fallback\"><pre>RandomizedSearchCV(cv=3, estimator=RandomForestClassifier(), n_iter=100,\n",
       "                   n_jobs=-1,\n",
       "                   param_distributions={&#x27;bootstrap&#x27;: [True, False],\n",
       "                                        &#x27;max_depth&#x27;: [10, 20, 30, 40, 50, 60,\n",
       "                                                      70, 80, 90, 100, 110,\n",
       "                                                      None],\n",
       "                                        &#x27;max_features&#x27;: [&#x27;auto&#x27;, &#x27;sqrt&#x27;],\n",
       "                                        &#x27;min_samples_leaf&#x27;: [1, 2, 4],\n",
       "                                        &#x27;min_samples_split&#x27;: [2, 5, 10],\n",
       "                                        &#x27;n_estimators&#x27;: [200, 400, 600, 800,\n",
       "                                                         1000, 1200, 1400, 1600,\n",
       "                                                         1800, 2000]},\n",
       "                   random_state=42, verbose=2)</pre><b>In a Jupyter environment, please rerun this cell to show the HTML representation or trust the notebook. <br />On GitHub, the HTML representation is unable to render, please try loading this page with nbviewer.org.</b></div><div class=\"sk-container\" hidden><div class=\"sk-item sk-dashed-wrapped\"><div class=\"sk-label-container\"><div class=\"sk-label sk-toggleable\"><input class=\"sk-toggleable__control sk-hidden--visually\" id=\"sk-estimator-id-5\" type=\"checkbox\" ><label for=\"sk-estimator-id-5\" class=\"sk-toggleable__label sk-toggleable__label-arrow\">RandomizedSearchCV</label><div class=\"sk-toggleable__content\"><pre>RandomizedSearchCV(cv=3, estimator=RandomForestClassifier(), n_iter=100,\n",
       "                   n_jobs=-1,\n",
       "                   param_distributions={&#x27;bootstrap&#x27;: [True, False],\n",
       "                                        &#x27;max_depth&#x27;: [10, 20, 30, 40, 50, 60,\n",
       "                                                      70, 80, 90, 100, 110,\n",
       "                                                      None],\n",
       "                                        &#x27;max_features&#x27;: [&#x27;auto&#x27;, &#x27;sqrt&#x27;],\n",
       "                                        &#x27;min_samples_leaf&#x27;: [1, 2, 4],\n",
       "                                        &#x27;min_samples_split&#x27;: [2, 5, 10],\n",
       "                                        &#x27;n_estimators&#x27;: [200, 400, 600, 800,\n",
       "                                                         1000, 1200, 1400, 1600,\n",
       "                                                         1800, 2000]},\n",
       "                   random_state=42, verbose=2)</pre></div></div></div><div class=\"sk-parallel\"><div class=\"sk-parallel-item\"><div class=\"sk-item\"><div class=\"sk-label-container\"><div class=\"sk-label sk-toggleable\"><input class=\"sk-toggleable__control sk-hidden--visually\" id=\"sk-estimator-id-6\" type=\"checkbox\" ><label for=\"sk-estimator-id-6\" class=\"sk-toggleable__label sk-toggleable__label-arrow\">estimator: RandomForestClassifier</label><div class=\"sk-toggleable__content\"><pre>RandomForestClassifier()</pre></div></div></div><div class=\"sk-serial\"><div class=\"sk-item\"><div class=\"sk-estimator sk-toggleable\"><input class=\"sk-toggleable__control sk-hidden--visually\" id=\"sk-estimator-id-7\" type=\"checkbox\" ><label for=\"sk-estimator-id-7\" class=\"sk-toggleable__label sk-toggleable__label-arrow\">RandomForestClassifier</label><div class=\"sk-toggleable__content\"><pre>RandomForestClassifier()</pre></div></div></div></div></div></div></div></div></div></div>"
      ],
      "text/plain": [
       "RandomizedSearchCV(cv=3, estimator=RandomForestClassifier(), n_iter=100,\n",
       "                   n_jobs=-1,\n",
       "                   param_distributions={'bootstrap': [True, False],\n",
       "                                        'max_depth': [10, 20, 30, 40, 50, 60,\n",
       "                                                      70, 80, 90, 100, 110,\n",
       "                                                      None],\n",
       "                                        'max_features': ['auto', 'sqrt'],\n",
       "                                        'min_samples_leaf': [1, 2, 4],\n",
       "                                        'min_samples_split': [2, 5, 10],\n",
       "                                        'n_estimators': [200, 400, 600, 800,\n",
       "                                                         1000, 1200, 1400, 1600,\n",
       "                                                         1800, 2000]},\n",
       "                   random_state=42, verbose=2)"
      ]
     },
     "execution_count": 32,
     "metadata": {},
     "output_type": "execute_result"
    }
   ],
   "source": [
    "# Use the random grid to search for best hyperparameters\n",
    "# First create the base model to tune\n",
    "random_forest_model = RandomForestClassifier()\n",
    "# Random search of parameters, using 3 fold cross validation,\n",
    "# search across 100 different combinations, and use all available cores\n",
    "grid_random_forest = RandomizedSearchCV(\n",
    "    estimator = random_forest_model,\n",
    "    param_distributions = random_grid,\n",
    "    n_iter = 100,\n",
    "    cv = 3,\n",
    "    verbose=2,\n",
    "    random_state=42,\n",
    "    n_jobs = -1)\n",
    "# Fit the random search model\n",
    "grid_random_forest.fit(X_train, y_train)"
   ]
  },
  {
   "cell_type": "code",
   "execution_count": 33,
   "metadata": {},
   "outputs": [
    {
     "name": "stdout",
     "output_type": "stream",
     "text": [
      "              precision    recall  f1-score   support\n",
      "\n",
      "           0       0.89      0.84      0.86       501\n",
      "           1       0.84      0.90      0.87       499\n",
      "\n",
      "    accuracy                           0.87      1000\n",
      "   macro avg       0.87      0.87      0.87      1000\n",
      "weighted avg       0.87      0.87      0.87      1000\n",
      "\n"
     ]
    }
   ],
   "source": [
    "grid_predictions = grid_random_forest.predict(X_test)\n",
    "\n",
    "# print classification report\n",
    "print(classification_report(y_test, grid_predictions))"
   ]
  },
  {
   "cell_type": "markdown",
   "metadata": {},
   "source": [
    "# result:\n"
   ]
  },
  {
   "cell_type": "markdown",
   "metadata": {},
   "source": [
    "the accuracy in Naive byes model is 91% \n",
    "the accuracy inLogistic regression  model is 88% \n",
    "accuracy in SVM  model is 88% \n",
    "accuracy in KNN   model is 88% \n",
    "accuracy in Random Forest model is 88% "
   ]
  }
 ],
 "metadata": {
  "kernelspec": {
   "display_name": "Python 3 (ipykernel)",
   "language": "python",
   "name": "python3"
  },
  "language_info": {
   "codemirror_mode": {
    "name": "ipython",
    "version": 3
   },
   "file_extension": ".py",
   "mimetype": "text/x-python",
   "name": "python",
   "nbconvert_exporter": "python",
   "pygments_lexer": "ipython3",
   "version": "3.10.9"
  }
 },
 "nbformat": 4,
 "nbformat_minor": 1
}
